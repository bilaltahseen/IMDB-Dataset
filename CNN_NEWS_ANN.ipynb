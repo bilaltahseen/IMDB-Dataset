{
 "cells": [
  {
   "cell_type": "code",
   "execution_count": 48,
   "metadata": {},
   "outputs": [],
   "source": [
    "import numpy as np\n",
    "import pandas as pd \n",
    "import tensorflow as tf\n",
    "from sklearn.model_selection import train_test_split\n",
    "from tensorflow import keras\n",
    "from sklearn.preprocessing import LabelBinarizer, LabelEncoder\n",
    "from tensorflow.keras import models,layers"
   ]
  },
  {
   "cell_type": "code",
   "execution_count": 49,
   "metadata": {},
   "outputs": [],
   "source": [
    "data = pd.read_csv(\"bbc-text.csv\")"
   ]
  },
  {
   "cell_type": "code",
   "execution_count": 50,
   "metadata": {},
   "outputs": [
    {
     "data": {
      "text/html": [
       "<div>\n",
       "<style scoped>\n",
       "    .dataframe tbody tr th:only-of-type {\n",
       "        vertical-align: middle;\n",
       "    }\n",
       "\n",
       "    .dataframe tbody tr th {\n",
       "        vertical-align: top;\n",
       "    }\n",
       "\n",
       "    .dataframe thead th {\n",
       "        text-align: right;\n",
       "    }\n",
       "</style>\n",
       "<table border=\"1\" class=\"dataframe\">\n",
       "  <thead>\n",
       "    <tr style=\"text-align: right;\">\n",
       "      <th></th>\n",
       "      <th>category</th>\n",
       "      <th>text</th>\n",
       "    </tr>\n",
       "  </thead>\n",
       "  <tbody>\n",
       "    <tr>\n",
       "      <th>0</th>\n",
       "      <td>tech</td>\n",
       "      <td>tv future in the hands of viewers with home th...</td>\n",
       "    </tr>\n",
       "    <tr>\n",
       "      <th>1</th>\n",
       "      <td>business</td>\n",
       "      <td>worldcom boss  left books alone  former worldc...</td>\n",
       "    </tr>\n",
       "    <tr>\n",
       "      <th>2</th>\n",
       "      <td>sport</td>\n",
       "      <td>tigers wary of farrell  gamble  leicester say ...</td>\n",
       "    </tr>\n",
       "    <tr>\n",
       "      <th>3</th>\n",
       "      <td>sport</td>\n",
       "      <td>yeading face newcastle in fa cup premiership s...</td>\n",
       "    </tr>\n",
       "    <tr>\n",
       "      <th>4</th>\n",
       "      <td>entertainment</td>\n",
       "      <td>ocean s twelve raids box office ocean s twelve...</td>\n",
       "    </tr>\n",
       "  </tbody>\n",
       "</table>\n",
       "</div>"
      ],
      "text/plain": [
       "        category                                               text\n",
       "0           tech  tv future in the hands of viewers with home th...\n",
       "1       business  worldcom boss  left books alone  former worldc...\n",
       "2          sport  tigers wary of farrell  gamble  leicester say ...\n",
       "3          sport  yeading face newcastle in fa cup premiership s...\n",
       "4  entertainment  ocean s twelve raids box office ocean s twelve..."
      ]
     },
     "execution_count": 50,
     "metadata": {},
     "output_type": "execute_result"
    }
   ],
   "source": [
    "data.head()"
   ]
  },
  {
   "cell_type": "code",
   "execution_count": 51,
   "metadata": {},
   "outputs": [
    {
     "data": {
      "text/plain": [
       "sport            511\n",
       "business         510\n",
       "politics         417\n",
       "tech             401\n",
       "entertainment    386\n",
       "Name: category, dtype: int64"
      ]
     },
     "execution_count": 51,
     "metadata": {},
     "output_type": "execute_result"
    }
   ],
   "source": [
    "data['category'].value_counts()"
   ]
  },
  {
   "cell_type": "code",
   "execution_count": 52,
   "metadata": {},
   "outputs": [],
   "source": [
    "X=data['text']\n",
    "y=data['category']"
   ]
  },
  {
   "cell_type": "code",
   "execution_count": 53,
   "metadata": {},
   "outputs": [],
   "source": [
    "X_train, X_test, y_train_cat, y_test_cat = train_test_split(X, y, test_size=0.20, random_state=10)\n",
    "#Train test split"
   ]
  },
  {
   "cell_type": "code",
   "execution_count": 54,
   "metadata": {},
   "outputs": [],
   "source": [
    "X_train.reset_index(drop=True, inplace=True)\n",
    "X_test.reset_index(drop=True, inplace=True)\n",
    "y_train_cat.reset_index(drop=True, inplace=True)\n",
    "y_test_cat.reset_index(drop=True, inplace=True)"
   ]
  },
  {
   "cell_type": "code",
   "execution_count": 55,
   "metadata": {},
   "outputs": [],
   "source": [
    "max_words = 1000\n",
    "tokenize = keras.preprocessing.text.Tokenizer(num_words=max_words,char_level=False)"
   ]
  },
  {
   "cell_type": "code",
   "execution_count": 56,
   "metadata": {},
   "outputs": [],
   "source": [
    "tokenize.fit_on_texts(X_train) # fit tokenizer to our training text data\n",
    "x_train = tokenize.texts_to_matrix(X_train)\n",
    "x_test = tokenize.texts_to_matrix(X_test)"
   ]
  },
  {
   "cell_type": "code",
   "execution_count": 57,
   "metadata": {},
   "outputs": [
    {
     "data": {
      "text/plain": [
       "(1000,)"
      ]
     },
     "execution_count": 57,
     "metadata": {},
     "output_type": "execute_result"
    }
   ],
   "source": [
    "x_train[0].shape"
   ]
  },
  {
   "cell_type": "code",
   "execution_count": 58,
   "metadata": {},
   "outputs": [],
   "source": [
    "encoder = LabelEncoder()\n",
    "encoder.fit(y_train_cat)\n",
    "y_train = encoder.transform(y_train_cat)\n",
    "y_test = encoder.transform(y_test_cat)"
   ]
  },
  {
   "cell_type": "code",
   "execution_count": 59,
   "metadata": {},
   "outputs": [],
   "source": [
    "# Converts the labels to a one-hot representation\n",
    "num_classes = np.max(y_train) + 1\n",
    "y_train = keras.utils.to_categorical(y_train, num_classes)\n",
    "y_test = keras.utils.to_categorical(y_test, num_classes)"
   ]
  },
  {
   "cell_type": "code",
   "execution_count": 60,
   "metadata": {},
   "outputs": [
    {
     "name": "stdout",
     "output_type": "stream",
     "text": [
      "x_train shape: (1780, 1000)\n",
      "x_test shape: (445, 1000)\n",
      "y_train shape: (1780, 5)\n",
      "y_test shape: (445, 5)\n"
     ]
    }
   ],
   "source": [
    "print('x_train shape:', x_train.shape)\n",
    "print('x_test shape:', x_test.shape)\n",
    "print('y_train shape:', y_train.shape)\n",
    "print('y_test shape:', y_test.shape)"
   ]
  },
  {
   "cell_type": "code",
   "execution_count": 61,
   "metadata": {},
   "outputs": [],
   "source": [
    "model = models.Sequential()\n",
    "model.add(layers.Dense(1024,input_shape=(max_words,)))\n",
    "model.add(layers.Dense(212,activation='relu')) #Use for relu in our model is that there isn't any negative dependacy in our dataset\n",
    "model.add(layers.Activation('relu'))\n",
    "model.add(layers.Dense(num_classes,activation='softmax'))\n",
    "model.compile(loss='categorical_crossentropy',optimizer='adam',metrics=['accuracy'])"
   ]
  },
  {
   "cell_type": "code",
   "execution_count": 62,
   "metadata": {},
   "outputs": [],
   "source": [
    "batch_size = 32\n",
    "epochs = 2\n",
    "drop_ratio = 0.5"
   ]
  },
  {
   "cell_type": "code",
   "execution_count": 63,
   "metadata": {},
   "outputs": [
    {
     "name": "stdout",
     "output_type": "stream",
     "text": [
      "Train on 1602 samples, validate on 178 samples\n",
      "Epoch 1/2\n",
      "1602/1602 [==============================] - 2s 965us/sample - loss: 0.3115 - accuracy: 0.8970 - val_loss: 0.0632 - val_accuracy: 0.9775\n",
      "Epoch 2/2\n",
      "1602/1602 [==============================] - 1s 582us/sample - loss: 0.0141 - accuracy: 0.9969 - val_loss: 0.0454 - val_accuracy: 0.9831\n"
     ]
    }
   ],
   "source": [
    "history = model.fit(x_train, y_train,batch_size=batch_size,epochs=epochs,verbose=1,validation_split=0.1)"
   ]
  },
  {
   "cell_type": "code",
   "execution_count": 64,
   "metadata": {},
   "outputs": [
    {
     "name": "stdout",
     "output_type": "stream",
     "text": [
      "Test loss: 0.20125451650512352\n",
      "Test accuracy: 0.94382024\n"
     ]
    }
   ],
   "source": [
    "score = model.evaluate(x_test, y_test,batch_size=batch_size, verbose=0)\n",
    "print('Test loss:', score[0])\n",
    "print('Test accuracy:', score[1])"
   ]
  },
  {
   "cell_type": "code",
   "execution_count": 65,
   "metadata": {},
   "outputs": [
    {
     "name": "stdout",
     "output_type": "stream",
     "text": [
      "Test loss: 0.20125451650512352\n",
      "Test accuracy: 0.94382024\n",
      "----------------\n",
      "oscar nominees lack pulling power this year s clut ...\n",
      "Actual label:entertainment\n",
      "Predicted label: entertainment\n",
      "\n",
      "Test loss: 0.20125451650512352\n",
      "Test accuracy: 0.94382024\n",
      "----------------\n",
      "wi-fi web reaches farmers in peru a network of com ...\n",
      "Actual label:tech\n",
      "Predicted label: tech\n",
      "\n",
      "Test loss: 0.20125451650512352\n",
      "Test accuracy: 0.94382024\n",
      "----------------\n",
      "stevens named in england line-up england have name ...\n",
      "Actual label:sport\n",
      "Predicted label: sport\n",
      "\n",
      "Test loss: 0.20125451650512352\n",
      "Test accuracy: 0.94382024\n",
      "----------------\n",
      "ireland win eclipses refereeing  errors  the inter ...\n",
      "Actual label:sport\n",
      "Predicted label: sport\n",
      "\n",
      "Test loss: 0.20125451650512352\n",
      "Test accuracy: 0.94382024\n",
      "----------------\n",
      "melzer shocks agassi in san jose second seed andre ...\n",
      "Actual label:sport\n",
      "Predicted label: sport\n",
      "\n",
      "Test loss: 0.20125451650512352\n",
      "Test accuracy: 0.94382024\n",
      "----------------\n",
      "us in eu tariff chaos trade row the us has asked t ...\n",
      "Actual label:business\n",
      "Predicted label: business\n",
      "\n",
      "Test loss: 0.20125451650512352\n",
      "Test accuracy: 0.94382024\n",
      "----------------\n",
      "oil rebounds from weather effect oil prices recove ...\n",
      "Actual label:business\n",
      "Predicted label: business\n",
      "\n",
      "Test loss: 0.20125451650512352\n",
      "Test accuracy: 0.94382024\n",
      "----------------\n",
      "santy worm makes unwelcome visit thousands of webs ...\n",
      "Actual label:tech\n",
      "Predicted label: tech\n",
      "\n",
      "Test loss: 0.20125451650512352\n",
      "Test accuracy: 0.94382024\n",
      "----------------\n",
      "singer s film to show at festival a documentary wh ...\n",
      "Actual label:entertainment\n",
      "Predicted label: entertainment\n",
      "\n",
      "Test loss: 0.20125451650512352\n",
      "Test accuracy: 0.94382024\n",
      "----------------\n",
      "mobiles rack up 20 years of use mobile phones in t ...\n",
      "Actual label:tech\n",
      "Predicted label: tech\n",
      "\n"
     ]
    }
   ],
   "source": [
    "text_labels = encoder.classes_\n",
    "\n",
    "for i in range(10):\n",
    "    print('Test loss:', score[0])\n",
    "    print('Test accuracy:', score[1])\n",
    "    print(\"----------------\")\n",
    "    prediction = model.predict(np.array([x_test[i]]))\n",
    "    predicted_label = text_labels[np.argmax(prediction)]\n",
    "    print(X_test[i][:50], \"...\")\n",
    "    print('Actual label:' + y_test_cat[i])\n",
    "    print(\"Predicted label: \" + predicted_label + \"\\n\") "
   ]
  },
  {
   "cell_type": "markdown",
   "metadata": {},
   "source": [
    "# Testing "
   ]
  },
  {
   "cell_type": "code",
   "execution_count": 93,
   "metadata": {},
   "outputs": [
    {
     "name": "stdout",
     "output_type": "stream",
     "text": [
      "Enter NewsAnd that behaviour seems ... let me find the word ... wrong. Yes, wrong is the word. Wrong. Utterly objectionable. Objectionable works, because sensible prime ministers know that in times of national emergency, you show. You don’t tell, at least not with a crude bit of agitprop on the Liberal party website and pumped out on platforms. You show. Show up, first of all, and you show leadership by actually leading. Not by telling people you are leading. Otherwise you are not a leader. You are an internet meme. Dear Mr Morrison. You are the prime minister, not the Liberal party spruiker. We really do need you to understand that difference.  PM tries to present himself as a leader reborn – but you just can’t take the marketing out of Scotty David Marr David Marr  Read more Now of course governments need to tell citizens what they are doing, and perhaps the argument for doing this increases when there has been a rapid recalibration from the top like the one we’ve seen over the past week or so.  But Tropical Beats was not an essential communication. Not on Saturday. I doubt it was an essential communication on any day quite frankly, but certainly not on Saturday.  On Saturday, people in extremis, in fire zones, needed to know where to be or where not to be. They needed to know where exactly the danger was and how to avoid it.  They did not need a prime minister in their face on social platforms shouting “I have not screwed this up. I am taking command of this situation. I have All The Things and I’m Deploying Them.”  Not on a day where authorities were dealing with life and death.  Not on that day.  Since you're here... … we have a small favour to ask. More people, like you, are reading and supporting the Guardian’s independent, investigative journalism than ever before. And unlike many news organisations, we made the choice to keep our reporting open for all, regardless of where they live or what they can afford to pay.  The Guardian will engage with the most critical issues of our time – from the escalating climate catastrophe to widespread inequality to the influence of big tech on our lives. At a time when factual information is a necessity, we believe that each of us, around the world, deserves access to accurate reporting with integrity at its heart.  Our editorial independence means we set our own agenda and voice our own opinions. Guardian journalism is free from commercial and political bias and not influenced by billionaire owners or shareholders. This means we can give a voice to those less heard, explore where others turn away, and rigorously challenge those in power.  We hope you will consider supporting us today. We need your support to keep delivering quality journalism that’s open and independent. Every reader contribution, however big or small, is so valuable. Support The Guardian from as little as £1 – and it only takes a minute. Thank you.\n"
     ]
    },
    {
     "data": {
      "text/plain": [
       "'politics'"
      ]
     },
     "execution_count": 93,
     "metadata": {},
     "output_type": "execute_result"
    }
   ],
   "source": [
    "text_inp = input(\"Enter News\")\n",
    "def predict_news(text_inp):\n",
    "    max_words = 1000\n",
    "    tokenize = keras.preprocessing.text.Tokenizer(num_words=max_words,char_level=False)\n",
    "    X_train_inp=pd.Series(text_inp)\n",
    "    tokenize.fit_on_texts(X_train) # fit tokenizer to our training text data\n",
    "    x_train_man = tokenize.texts_to_matrix(X_train_inp)\n",
    "    prediction = model.predict(np.array([x_train_man[0]]))\n",
    "    predicted_label = text_labels[np.argmax(prediction)]\n",
    "    return predicted_label\n",
    "predict_news(text_inp)"
   ]
  },
  {
   "cell_type": "code",
   "execution_count": null,
   "metadata": {},
   "outputs": [],
   "source": []
  }
 ],
 "metadata": {
  "kernelspec": {
   "display_name": "Python 3",
   "language": "python",
   "name": "python3"
  }
 },
 "nbformat": 4,
 "nbformat_minor": 2
}
