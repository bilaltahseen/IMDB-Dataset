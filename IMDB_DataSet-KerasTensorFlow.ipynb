{
 "cells": [
  {
   "cell_type": "code",
   "execution_count": 1,
   "metadata": {},
   "outputs": [
    {
     "name": "stderr",
     "output_type": "stream",
     "text": [
      "Using TensorFlow backend.\n"
     ]
    }
   ],
   "source": [
    "from keras.datasets import imdb\n",
    "import numpy as np\n",
    "\n",
    "(train_data, train_labels), (test_data, test_labels) = imdb.load_data(num_words=10000)"
   ]
  },
  {
   "cell_type": "code",
   "execution_count": 2,
   "metadata": {},
   "outputs": [
    {
     "data": {
      "text/plain": [
       "9999"
      ]
     },
     "execution_count": 2,
     "metadata": {},
     "output_type": "execute_result"
    }
   ],
   "source": [
    "max([max(sequence) for sequence in train_data])"
   ]
  },
  {
   "cell_type": "code",
   "execution_count": 3,
   "metadata": {},
   "outputs": [
    {
     "data": {
      "text/plain": [
       "(25000,)"
      ]
     },
     "execution_count": 3,
     "metadata": {},
     "output_type": "execute_result"
    }
   ],
   "source": [
    "train_data.shape"
   ]
  },
  {
   "cell_type": "code",
   "execution_count": 4,
   "metadata": {},
   "outputs": [],
   "source": [
    "def vectorize_sequences(sequences, dimension=10000):\n",
    "    results = np.zeros((len(sequences), dimension))\n",
    "    for i, sequence in enumerate(sequences):\n",
    "        results[i, sequence] = 1.\n",
    "    return results"
   ]
  },
  {
   "cell_type": "code",
   "execution_count": 5,
   "metadata": {},
   "outputs": [],
   "source": [
    "x_train = vectorize_sequences(train_data)\n",
    "x_test = vectorize_sequences(test_data)\n",
    "y_train = np.asarray(train_labels).astype('float32')\n",
    "y_test = np.asarray(test_labels).astype('float32')"
   ]
  },
  {
   "cell_type": "code",
   "execution_count": 6,
   "metadata": {},
   "outputs": [
    {
     "data": {
      "text/plain": [
       "array([0., 1., 1., ..., 0., 0., 0.])"
      ]
     },
     "execution_count": 6,
     "metadata": {},
     "output_type": "execute_result"
    }
   ],
   "source": [
    "x_train[6]"
   ]
  },
  {
   "cell_type": "code",
   "execution_count": 7,
   "metadata": {},
   "outputs": [],
   "source": [
    "from keras import models\n",
    "from keras import layers\n",
    "model = models.Sequential()\n",
    "model.add(layers.Dense(16, activation='relu', input_shape=(10000,)))\n",
    "model.add(layers.Dense(16, activation='relu'))\n",
    "model.add(layers.Dense(1, activation='sigmoid'))"
   ]
  },
  {
   "cell_type": "code",
   "execution_count": 8,
   "metadata": {},
   "outputs": [],
   "source": [
    "from keras import losses\n",
    "from keras import metrics\n",
    "from keras import optimizers"
   ]
  },
  {
   "cell_type": "code",
   "execution_count": 9,
   "metadata": {},
   "outputs": [],
   "source": [
    "x_val = x_train[:10000]\n",
    "partial_x_train = x_train[10000:]\n",
    "y_val = y_train[:10000]\n",
    "partial_y_train=y_train[10000:]"
   ]
  },
  {
   "cell_type": "code",
   "execution_count": null,
   "metadata": {},
   "outputs": [
    {
     "name": "stdout",
     "output_type": "stream",
     "text": [
      "Train on 15000 samples, validate on 10000 samples\n",
      "Epoch 1/20\n",
      "15000/15000 [==============================] - 5s 355us/step - loss: 0.5325 - acc: 0.7807 - val_loss: 0.4095 - val_acc: 0.8655\n",
      "Epoch 2/20\n",
      "15000/15000 [==============================] - 4s 291us/step - loss: 0.3289 - acc: 0.9006 - val_loss: 0.3191 - val_acc: 0.8863\n",
      "Epoch 3/20\n",
      "10240/15000 [===================>..........] - ETA: 0s - loss: 0.2446 - acc: 0.9297- ETA: 1s - loss: 0.2460 - acc:"
     ]
    }
   ],
   "source": [
    "model.compile(optimizer='rmsprop',loss='binary_crossentropy',metrics=['acc'])\n",
    "history = model.fit(partial_x_train,partial_y_train,epochs=20,batch_size=512,validation_data=(x_val, y_val))"
   ]
  },
  {
   "cell_type": "code",
   "execution_count": 10,
   "metadata": {},
   "outputs": [
    {
     "data": {
      "text/plain": [
       "dict_keys(['val_loss', 'val_acc', 'loss', 'acc'])"
      ]
     },
     "execution_count": 10,
     "metadata": {},
     "output_type": "execute_result"
    }
   ],
   "source": [
    "history_dict = history.history\n",
    "history_dict.keys()"
   ]
  },
  {
   "cell_type": "code",
   "execution_count": 11,
   "metadata": {},
   "outputs": [
    {
     "data": {
      "text/plain": [
       "<Figure size 640x480 with 1 Axes>"
      ]
     },
     "metadata": {},
     "output_type": "display_data"
    }
   ],
   "source": [
    "import matplotlib.pyplot as plt\n",
    "\n",
    "history_dict = history.history\n",
    "loss_values = history_dict['loss']\n",
    "val_loss_values = history_dict['val_loss']\n",
    "acc_values = history_dict['acc']\n",
    "val_acc_values = history_dict['val_acc']\n",
    "epochs = range(1, len(history_dict['val_acc']) + 1)\n",
    "plt.plot(epochs, loss_values, 'b', label='Training loss')\n",
    "plt.plot(epochs, val_loss_values, 'g', label='Validation loss')\n",
    "\n",
    "plt.plot(epochs, acc_values, 'r', label='Training Accuracy')\n",
    "plt.plot(epochs, val_acc_values, 'y', label='Validation Accuracy')\n",
    "\n",
    "plt.title('Training and validation Accuracy and Loss')\n",
    "plt.xlabel('Epochs')\n",
    "plt.ylabel('Accuracy and Loss')\n",
    "plt.legend()\n",
    "plt.show()"
   ]
  },
  {
   "cell_type": "code",
   "execution_count": 12,
   "metadata": {},
   "outputs": [
    {
     "name": "stdout",
     "output_type": "stream",
     "text": [
      "Epoch 1/4\n",
      "25000/25000 [==============================] - 4s 162us/step - loss: 0.4291 - accuracy: 0.8233\n",
      "Epoch 2/4\n",
      "25000/25000 [==============================] - 4s 156us/step - loss: 0.2489 - accuracy: 0.9118\n",
      "Epoch 3/4\n",
      "25000/25000 [==============================] - 4s 157us/step - loss: 0.1943 - accuracy: 0.9313\n",
      "Epoch 4/4\n",
      "25000/25000 [==============================] - 4s 156us/step - loss: 0.1656 - accuracy: 0.9407\n"
     ]
    },
    {
     "data": {
      "text/plain": [
       "<keras.callbacks.callbacks.History at 0x3490a1df08>"
      ]
     },
     "execution_count": 12,
     "metadata": {},
     "output_type": "execute_result"
    }
   ],
   "source": [
    "model = models.Sequential()\n",
    "model.add(layers.Dense(16, activation='relu', input_shape=(10000,)))\n",
    "model.add(layers.Dense(16, activation='relu'))\n",
    "model.add(layers.Dense(1, activation='sigmoid'))\n",
    "model.compile(optimizer='rmsprop',\n",
    "loss='binary_crossentropy',\n",
    "metrics=['accuracy'])\n",
    "model.fit(x_train, y_train, epochs=4, batch_size=512)"
   ]
  },
  {
   "cell_type": "code",
   "execution_count": 13,
   "metadata": {},
   "outputs": [
    {
     "name": "stdout",
     "output_type": "stream",
     "text": [
      "25000/25000 [==============================] - 6s 238us/step\n"
     ]
    }
   ],
   "source": [
    "results = model.evaluate(x_test, y_test)"
   ]
  },
  {
   "cell_type": "code",
   "execution_count": 14,
   "metadata": {},
   "outputs": [
    {
     "data": {
      "text/plain": [
       "array([[0.29605764],\n",
       "       [0.9996455 ],\n",
       "       [0.9753275 ],\n",
       "       ...,\n",
       "       [0.1710253 ],\n",
       "       [0.10232997],\n",
       "       [0.6647425 ]], dtype=float32)"
      ]
     },
     "execution_count": 14,
     "metadata": {},
     "output_type": "execute_result"
    }
   ],
   "source": [
    "model.predict(x_test)"
   ]
  },
  {
   "cell_type": "code",
   "execution_count": 15,
   "metadata": {},
   "outputs": [
    {
     "name": "stdout",
     "output_type": "stream",
     "text": [
      "Train on 15000 samples, validate on 10000 samples\n",
      "Epoch 1/20\n",
      "15000/15000 [==============================] - 6s 404us/step - loss: 0.4740 - accuracy: 0.7908 - val_loss: 0.3274 - val_accuracy: 0.8746\n",
      "Epoch 2/20\n",
      "15000/15000 [==============================] - 5s 366us/step - loss: 0.2607 - accuracy: 0.9015 - val_loss: 0.2765 - val_accuracy: 0.8900\n",
      "Epoch 3/20\n",
      "15000/15000 [==============================] - 5s 344us/step - loss: 0.1835 - accuracy: 0.9341 - val_loss: 0.2868 - val_accuracy: 0.8844\n",
      "Epoch 4/20\n",
      "15000/15000 [==============================] - 5s 344us/step - loss: 0.1355 - accuracy: 0.9515 - val_loss: 0.3303 - val_accuracy: 0.8798\n",
      "Epoch 5/20\n",
      "15000/15000 [==============================] - 5s 344us/step - loss: 0.1086 - accuracy: 0.9611 - val_loss: 0.3498 - val_accuracy: 0.8708\n",
      "Epoch 6/20\n",
      "15000/15000 [==============================] - 5s 340us/step - loss: 0.0694 - accuracy: 0.9781 - val_loss: 0.3430 - val_accuracy: 0.8818\n",
      "Epoch 7/20\n",
      "15000/15000 [==============================] - 5s 342us/step - loss: 0.0564 - accuracy: 0.9834 - val_loss: 0.3781 - val_accuracy: 0.8831\n",
      "Epoch 8/20\n",
      "15000/15000 [==============================] - 5s 333us/step - loss: 0.0216 - accuracy: 0.9963 - val_loss: 0.7431 - val_accuracy: 0.8166\n",
      "Epoch 9/20\n",
      "15000/15000 [==============================] - 5s 330us/step - loss: 0.0343 - accuracy: 0.9887 - val_loss: 0.4671 - val_accuracy: 0.8807\n",
      "Epoch 10/20\n",
      "15000/15000 [==============================] - 5s 337us/step - loss: 0.0417 - accuracy: 0.9873 - val_loss: 0.4808 - val_accuracy: 0.8796\n",
      "Epoch 11/20\n",
      "15000/15000 [==============================] - 5s 330us/step - loss: 0.0053 - accuracy: 0.9998 - val_loss: 0.5351 - val_accuracy: 0.8767\n",
      "Epoch 12/20\n",
      "15000/15000 [==============================] - 5s 331us/step - loss: 0.0341 - accuracy: 0.9906 - val_loss: 0.5506 - val_accuracy: 0.8776\n",
      "Epoch 13/20\n",
      "15000/15000 [==============================] - 5s 333us/step - loss: 0.0023 - accuracy: 0.9999 - val_loss: 0.6017 - val_accuracy: 0.8761\n",
      "Epoch 14/20\n",
      "15000/15000 [==============================] - 5s 346us/step - loss: 0.0248 - accuracy: 0.9927 - val_loss: 0.6211 - val_accuracy: 0.8733\n",
      "Epoch 15/20\n",
      "15000/15000 [==============================] - 5s 336us/step - loss: 0.0011 - accuracy: 1.0000 - val_loss: 0.6612 - val_accuracy: 0.8732\n",
      "Epoch 16/20\n",
      "15000/15000 [==============================] - 5s 336us/step - loss: 7.3519e-04 - accuracy: 1.0000 - val_loss: 0.7210 - val_accuracy: 0.8750\n",
      "Epoch 17/20\n",
      "15000/15000 [==============================] - 5s 335us/step - loss: 4.3579e-04 - accuracy: 1.0000 - val_loss: 0.7914 - val_accuracy: 0.8712\n",
      "Epoch 18/20\n",
      "15000/15000 [==============================] - 5s 337us/step - loss: 0.0226 - accuracy: 0.9941 - val_loss: 0.8136 - val_accuracy: 0.8709\n",
      "Epoch 19/20\n",
      "15000/15000 [==============================] - 5s 334us/step - loss: 2.5606e-04 - accuracy: 1.0000 - val_loss: 0.8388 - val_accuracy: 0.8722\n",
      "Epoch 20/20\n",
      "15000/15000 [==============================] - 5s 336us/step - loss: 1.4305e-04 - accuracy: 1.0000 - val_loss: 0.8760 - val_accuracy: 0.8729\n"
     ]
    }
   ],
   "source": [
    "model = models.Sequential()\n",
    "model.add(layers.Dense(64, activation='relu', input_shape=(10000,)))\n",
    "model.add(layers.Dense(64,activation='relu'))\n",
    "model.add(layers.Dense(1, activation='sigmoid'))\n",
    "model.compile(optimizer='rmsprop',\n",
    "loss='binary_crossentropy',\n",
    "metrics=['accuracy'])\n",
    "history = model.fit(partial_x_train,partial_y_train,epochs=20,batch_size=512,validation_data=(x_val, y_val))"
   ]
  },
  {
   "cell_type": "code",
   "execution_count": 16,
   "metadata": {},
   "outputs": [
    {
     "data": {
      "text/plain": [
       "dict_keys(['val_loss', 'val_accuracy', 'loss', 'accuracy'])"
      ]
     },
     "execution_count": 16,
     "metadata": {},
     "output_type": "execute_result"
    }
   ],
   "source": [
    "history_dict = history.history\n",
    "history_dict.keys()"
   ]
  },
  {
   "cell_type": "code",
   "execution_count": 17,
   "metadata": {},
   "outputs": [
    {
     "data": {
      "image/png": "[encoded data removed]",
      "text/plain": [
       "<Figure size 432x288 with 1 Axes>"
      ]
     },
     "metadata": {
      "needs_background": "light"
     },
     "output_type": "display_data"
    }
   ],
   "source": [
    "import matplotlib.pyplot as plt\n",
    "\n",
    "history_dict = history.history\n",
    "loss_values = history_dict['loss']\n",
    "val_loss_values = history_dict['val_loss']\n",
    "acc_values = history_dict['accuracy']\n",
    "val_acc_values = history_dict['val_accuracy']\n",
    "epochs = range(1, len(history_dict['val_accuracy']) + 1)\n",
    "plt.plot(epochs, loss_values, 'b', label='Training loss')\n",
    "plt.plot(epochs, val_loss_values, 'g', label='Validation loss')\n",
    "\n",
    "plt.plot(epochs, acc_values, 'r', label='Training Accuracy')\n",
    "plt.plot(epochs, val_acc_values, 'y', label='Validation Accuracy')\n",
    "\n",
    "plt.title('Training and validation Accuracy and Loss')\n",
    "plt.xlabel('Epochs')\n",
    "plt.ylabel('Accuracy and Loss')\n",
    "plt.legend()\n",
    "plt.show()"
   ]
  },
  {
   "cell_type": "code",
   "execution_count": 18,
   "metadata": {},
   "outputs": [],
   "source": [
    "#Hyper parameters , turning the Hp during validation,where validaition mai max accuracy\n",
    "#Optimization , kisi aik feacture ko dekh kar ous par decesion lay lay\n",
    "#Generalize means to make something specified ,not recomended\n",
    "#More same date means to specific.\n",
    "#"
   ]
  },
  {
   "cell_type": "code",
   "execution_count": 19,
   "metadata": {},
   "outputs": [],
   "source": []
  },
  {
   "cell_type": "code",
   "execution_count": null,
   "metadata": {},
   "outputs": [],
   "source": []
  }
 ],
 "metadata": {
  "kernelspec": {
   "display_name": "Python 3",
   "language": "python",
   "name": "python3"
  },
  "language_info": {
   "codemirror_mode": {
    "name": "ipython",
    "version": 3
   },
   "file_extension": ".py",
   "mimetype": "text/x-python",
   "name": "python",
   "nbconvert_exporter": "python",
   "pygments_lexer": "ipython3",
   "version": "3.7.5"
  }
 },
 "nbformat": 4,
 "nbformat_minor": 2
}
