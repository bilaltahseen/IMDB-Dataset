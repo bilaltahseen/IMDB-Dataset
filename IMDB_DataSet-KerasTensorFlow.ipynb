{
 "cells": [
  {
   "cell_type": "code",
   "execution_count": 33,
   "metadata": {},
   "outputs": [],
   "source": [
    "from keras.datasets import imdb\n",
    "import numpy as np\n",
    "(train_data, train_labels), (test_data, test_labels) = imdb.load_data(num_words=10000)"
   ]
  },
  {
   "cell_type": "code",
   "execution_count": 34,
   "metadata": {},
   "outputs": [
    {
     "data": {
      "text/plain": [
       "9999"
      ]
     },
     "execution_count": 34,
     "metadata": {},
     "output_type": "execute_result"
    }
   ],
   "source": [
    "max([max(sequence) for sequence in train_data])"
   ]
  },
  {
   "cell_type": "code",
   "execution_count": 35,
   "metadata": {},
   "outputs": [],
   "source": [
    "def vectorize_sequences(sequences, dimension=10000):\n",
    "    results = np.zeros((len(sequences), dimension))\n",
    "    for i, sequence in enumerate(sequences):\n",
    "        results[i, sequence] = 1.\n",
    "    return results"
   ]
  },
  {
   "cell_type": "code",
   "execution_count": 36,
   "metadata": {},
   "outputs": [],
   "source": [
    "x_train = vectorize_sequences(train_data)\n",
    "x_test = vectorize_sequences(test_data)\n",
    "y_train = np.asarray(train_labels).astype('float32')\n",
    "y_test = np.asarray(test_labels).astype('float32')"
   ]
  },
  {
   "cell_type": "code",
   "execution_count": 37,
   "metadata": {},
   "outputs": [],
   "source": [
    "from keras import models\n",
    "from keras import layers\n",
    "model = models.Sequential()\n",
    "model.add(layers.Dense(16, activation='relu', input_shape=(10000,)))\n",
    "model.add(layers.Dense(16, activation='relu'))\n",
    "model.add(layers.Dense(1, activation='sigmoid'))"
   ]
  },
  {
   "cell_type": "code",
   "execution_count": 38,
   "metadata": {},
   "outputs": [],
   "source": [
    "from keras import losses\n",
    "from keras import metrics\n",
    "from keras import optimizers"
   ]
  },
  {
   "cell_type": "code",
   "execution_count": 39,
   "metadata": {},
   "outputs": [],
   "source": [
    "x_val = x_train[:10000]\n",
    "partial_x_train = x_train[10000:]\n",
    "y_val = y_train[:10000]\n",
    "partial_y_train=y_train[10000:]"
   ]
  },
  {
   "cell_type": "code",
   "execution_count": 40,
   "metadata": {},
   "outputs": [
    {
     "name": "stdout",
     "output_type": "stream",
     "text": [
      "Train on 15000 samples, validate on 10000 samples\n",
      "Epoch 1/20\n",
      "15000/15000 [==============================] - 4s 247us/step - loss: 0.5247 - acc: 0.7773 - val_loss: 0.3994 - val_acc: 0.8669\n",
      "Epoch 2/20\n",
      "15000/15000 [==============================] - 4s 256us/step - loss: 0.3113 - acc: 0.9031 - val_loss: 0.3327 - val_acc: 0.8695\n",
      "Epoch 3/20\n",
      "15000/15000 [==============================] - 4s 237us/step - loss: 0.2277 - acc: 0.9262 - val_loss: 0.3469 - val_acc: 0.8550\n",
      "Epoch 4/20\n",
      "15000/15000 [==============================] - 4s 270us/step - loss: 0.1808 - acc: 0.9409 - val_loss: 0.2726 - val_acc: 0.8910\n",
      "Epoch 5/20\n",
      "15000/15000 [==============================] - 4s 269us/step - loss: 0.1498 - acc: 0.9505 - val_loss: 0.2768 - val_acc: 0.8906\n",
      "Epoch 6/20\n",
      "15000/15000 [==============================] - 3s 220us/step - loss: 0.1228 - acc: 0.9625 - val_loss: 0.2886 - val_acc: 0.8879\n",
      "Epoch 7/20\n",
      "15000/15000 [==============================] - 3s 226us/step - loss: 0.1016 - acc: 0.9689 - val_loss: 0.3169 - val_acc: 0.8828\n",
      "Epoch 8/20\n",
      "15000/15000 [==============================] - 3s 217us/step - loss: 0.0810 - acc: 0.9775 - val_loss: 0.3323 - val_acc: 0.8816\n",
      "Epoch 9/20\n",
      "15000/15000 [==============================] - 3s 213us/step - loss: 0.0681 - acc: 0.9816 - val_loss: 0.3511 - val_acc: 0.8813\n",
      "Epoch 10/20\n",
      "15000/15000 [==============================] - 3s 209us/step - loss: 0.0563 - acc: 0.9855 - val_loss: 0.3929 - val_acc: 0.8718\n",
      "Epoch 11/20\n",
      "15000/15000 [==============================] - 3s 208us/step - loss: 0.0448 - acc: 0.9895 - val_loss: 0.4072 - val_acc: 0.8751\n",
      "Epoch 12/20\n",
      "15000/15000 [==============================] - 3s 212us/step - loss: 0.0397 - acc: 0.9899 - val_loss: 0.4336 - val_acc: 0.8743\n",
      "Epoch 13/20\n",
      "15000/15000 [==============================] - 3s 231us/step - loss: 0.0281 - acc: 0.9948 - val_loss: 0.4690 - val_acc: 0.8739\n",
      "Epoch 14/20\n",
      "15000/15000 [==============================] - 3s 227us/step - loss: 0.0248 - acc: 0.9948 - val_loss: 0.5033 - val_acc: 0.8674\n",
      "Epoch 15/20\n",
      "15000/15000 [==============================] - 3s 214us/step - loss: 0.0180 - acc: 0.9976 - val_loss: 0.5302 - val_acc: 0.8701\n",
      "Epoch 16/20\n",
      "15000/15000 [==============================] - 3s 210us/step - loss: 0.0159 - acc: 0.9979 - val_loss: 0.5648 - val_acc: 0.8685\n",
      "Epoch 17/20\n",
      "15000/15000 [==============================] - 3s 210us/step - loss: 0.0105 - acc: 0.9993 - val_loss: 0.6396 - val_acc: 0.8586\n",
      "Epoch 18/20\n",
      "15000/15000 [==============================] - 3s 211us/step - loss: 0.0083 - acc: 0.9994 - val_loss: 0.6604 - val_acc: 0.8601\n",
      "Epoch 19/20\n",
      "15000/15000 [==============================] - 3s 212us/step - loss: 0.0059 - acc: 0.9998 - val_loss: 0.6965 - val_acc: 0.8668\n",
      "Epoch 20/20\n",
      "15000/15000 [==============================] - 3s 211us/step - loss: 0.0073 - acc: 0.9985 - val_loss: 0.7365 - val_acc: 0.8645\n"
     ]
    }
   ],
   "source": [
    "model.compile(optimizer='rmsprop',loss='binary_crossentropy',metrics=['acc'])\n",
    "history = model.fit(partial_x_train,partial_y_train,epochs=20,batch_size=512,validation_data=(x_val, y_val))"
   ]
  },
  {
   "cell_type": "code",
   "execution_count": 41,
   "metadata": {},
   "outputs": [
    {
     "data": {
      "text/plain": [
       "dict_keys(['val_loss', 'val_acc', 'loss', 'acc'])"
      ]
     },
     "execution_count": 41,
     "metadata": {},
     "output_type": "execute_result"
    }
   ],
   "source": [
    "history_dict = history.history\n",
    "history_dict.keys()"
   ]
  },
  {
   "cell_type": "code",
   "execution_count": 42,
   "metadata": {},
   "outputs": [
    {
     "data": {
      "image/png": "[encoded data removed]",
      "text/plain": [
       "<Figure size 432x288 with 1 Axes>"
      ]
     },
     "metadata": {
      "needs_background": "light"
     },
     "output_type": "display_data"
    }
   ],
   "source": [
    "import matplotlib.pyplot as plt\n",
    "\n",
    "history_dict = history.history\n",
    "loss_values = history_dict['loss']\n",
    "val_loss_values = history_dict['val_loss']\n",
    "acc_values = history_dict['acc']\n",
    "val_acc_values = history_dict['val_acc']\n",
    "epochs = range(1, len(history_dict['val_acc']) + 1)\n",
    "plt.plot(epochs, loss_values, 'b', label='Training loss')\n",
    "plt.plot(epochs, val_loss_values, 'g', label='Validation loss')\n",
    "\n",
    "plt.plot(epochs, acc_values, 'r', label='Training Accuracy')\n",
    "plt.plot(epochs, val_acc_values, 'y', label='Validation Accuracy')\n",
    "\n",
    "plt.title('Training and validation Accuracy and Loss')\n",
    "plt.xlabel('Epochs')\n",
    "plt.ylabel('Accuracy and Loss')\n",
    "plt.legend()\n",
    "plt.show()"
   ]
  },
  {
   "cell_type": "code",
   "execution_count": 43,
   "metadata": {},
   "outputs": [
    {
     "name": "stdout",
     "output_type": "stream",
     "text": [
      "Epoch 1/4\n",
      "25000/25000 [==============================] - 4s 145us/step - loss: 0.4875 - accuracy: 0.8146\n",
      "Epoch 2/4\n",
      "25000/25000 [==============================] - 3s 138us/step - loss: 0.2860 - accuracy: 0.9076\n",
      "Epoch 3/4\n",
      "25000/25000 [==============================] - 3s 137us/step - loss: 0.2158 - accuracy: 0.9256\n",
      "Epoch 4/4\n",
      "25000/25000 [==============================] - 4s 141us/step - loss: 0.1793 - accuracy: 0.9372\n"
     ]
    },
    {
     "data": {
      "text/plain": [
       "<keras.callbacks.callbacks.History at 0xefcc826d48>"
      ]
     },
     "execution_count": 43,
     "metadata": {},
     "output_type": "execute_result"
    }
   ],
   "source": [
    "model = models.Sequential()\n",
    "model.add(layers.Dense(16, activation='relu', input_shape=(10000,)))\n",
    "model.add(layers.Dense(16, activation='relu'))\n",
    "model.add(layers.Dense(1, activation='sigmoid'))\n",
    "model.compile(optimizer='rmsprop',\n",
    "loss='binary_crossentropy',\n",
    "metrics=['accuracy'])\n",
    "model.fit(x_train, y_train, epochs=4, batch_size=512)"
   ]
  },
  {
   "cell_type": "code",
   "execution_count": 44,
   "metadata": {},
   "outputs": [
    {
     "name": "stdout",
     "output_type": "stream",
     "text": [
      "25000/25000 [==============================] - 5s 192us/step\n"
     ]
    }
   ],
   "source": [
    "results = model.evaluate(x_test, y_test)"
   ]
  },
  {
   "cell_type": "code",
   "execution_count": 45,
   "metadata": {},
   "outputs": [
    {
     "data": {
      "text/plain": [
       "array([[0.21492785],\n",
       "       [0.9999193 ],\n",
       "       [0.85703146],\n",
       "       ...,\n",
       "       [0.12664708],\n",
       "       [0.08072433],\n",
       "       [0.5070567 ]], dtype=float32)"
      ]
     },
     "execution_count": 45,
     "metadata": {},
     "output_type": "execute_result"
    }
   ],
   "source": [
    "model.predict(x_test)"
   ]
  },
  {
   "cell_type": "code",
   "execution_count": 55,
   "metadata": {},
   "outputs": [
    {
     "name": "stdout",
     "output_type": "stream",
     "text": [
      "Train on 15000 samples, validate on 10000 samples\n",
      "Epoch 1/20\n",
      "15000/15000 [==============================] - 4s 295us/step - loss: 0.4791 - accuracy: 0.7841 - val_loss: 0.3629 - val_accuracy: 0.8520\n",
      "Epoch 2/20\n",
      "15000/15000 [==============================] - 4s 282us/step - loss: 0.2620 - accuracy: 0.9053 - val_loss: 0.2778 - val_accuracy: 0.8897\n",
      "Epoch 3/20\n",
      "15000/15000 [==============================] - 4s 283us/step - loss: 0.1903 - accuracy: 0.9299 - val_loss: 0.2769 - val_accuracy: 0.8907\n",
      "Epoch 4/20\n",
      "15000/15000 [==============================] - 4s 283us/step - loss: 0.1319 - accuracy: 0.9545 - val_loss: 0.3069 - val_accuracy: 0.8842\n",
      "Epoch 5/20\n",
      "15000/15000 [==============================] - 4s 290us/step - loss: 0.1078 - accuracy: 0.9613 - val_loss: 0.3178 - val_accuracy: 0.8850\n",
      "Epoch 6/20\n",
      "15000/15000 [==============================] - 4s 286us/step - loss: 0.0784 - accuracy: 0.9749 - val_loss: 0.3575 - val_accuracy: 0.8808\n",
      "Epoch 7/20\n",
      "15000/15000 [==============================] - 4s 283us/step - loss: 0.0574 - accuracy: 0.9812 - val_loss: 0.3951 - val_accuracy: 0.8777\n",
      "Epoch 8/20\n",
      "15000/15000 [==============================] - 4s 287us/step - loss: 0.0581 - accuracy: 0.9837 - val_loss: 0.4127 - val_accuracy: 0.8785\n",
      "Epoch 9/20\n",
      "15000/15000 [==============================] - 4s 285us/step - loss: 0.0207 - accuracy: 0.9957 - val_loss: 0.7135 - val_accuracy: 0.8303\n",
      "Epoch 10/20\n",
      "15000/15000 [==============================] - 4s 284us/step - loss: 0.0132 - accuracy: 0.9977 - val_loss: 0.5081 - val_accuracy: 0.8784\n",
      "Epoch 11/20\n",
      "15000/15000 [==============================] - 4s 284us/step - loss: 0.0425 - accuracy: 0.9891 - val_loss: 0.5437 - val_accuracy: 0.8756\n",
      "Epoch 12/20\n",
      "15000/15000 [==============================] - 4s 284us/step - loss: 0.0034 - accuracy: 0.9999 - val_loss: 0.5862 - val_accuracy: 0.8770\n",
      "Epoch 13/20\n",
      "15000/15000 [==============================] - 4s 286us/step - loss: 0.0028 - accuracy: 0.9997 - val_loss: 1.1703 - val_accuracy: 0.8108\n",
      "Epoch 14/20\n",
      "15000/15000 [==============================] - 4s 289us/step - loss: 0.0213 - accuracy: 0.9941 - val_loss: 0.6521 - val_accuracy: 0.8763\n",
      "Epoch 15/20\n",
      "15000/15000 [==============================] - 4s 285us/step - loss: 0.0011 - accuracy: 0.9999 - val_loss: 0.7080 - val_accuracy: 0.8752\n",
      "Epoch 16/20\n",
      "15000/15000 [==============================] - 4s 288us/step - loss: 6.7021e-04 - accuracy: 1.0000 - val_loss: 1.1608 - val_accuracy: 0.8305\n",
      "Epoch 17/20\n",
      "15000/15000 [==============================] - 4s 286us/step - loss: 0.0393 - accuracy: 0.9919 - val_loss: 0.7620 - val_accuracy: 0.8725\n",
      "Epoch 18/20\n",
      "15000/15000 [==============================] - 4s 286us/step - loss: 3.6180e-04 - accuracy: 1.0000 - val_loss: 0.8041 - val_accuracy: 0.8718\n",
      "Epoch 19/20\n",
      "15000/15000 [==============================] - 4s 285us/step - loss: 2.4008e-04 - accuracy: 1.0000 - val_loss: 0.8665 - val_accuracy: 0.8719\n",
      "Epoch 20/20\n",
      "15000/15000 [==============================] - 4s 296us/step - loss: 1.3516e-04 - accuracy: 1.0000 - val_loss: 0.9658 - val_accuracy: 0.8683\n"
     ]
    }
   ],
   "source": [
    "model = models.Sequential()\n",
    "model.add(layers.Dense(64, activation='relu', input_shape=(10000,)))\n",
    "model.add(layers.Dense(64,activation='relu'))\n",
    "model.add(layers.Dense(1, activation='sigmoid'))\n",
    "model.compile(optimizer='rmsprop',\n",
    "loss='binary_crossentropy',\n",
    "metrics=['accuracy'])\n",
    "history = model.fit(partial_x_train,partial_y_train,epochs=20,batch_size=512,validation_data=(x_val, y_val))"
   ]
  },
  {
   "cell_type": "code",
   "execution_count": 56,
   "metadata": {},
   "outputs": [
    {
     "data": {
      "text/plain": [
       "dict_keys(['val_loss', 'val_accuracy', 'loss', 'accuracy'])"
      ]
     },
     "execution_count": 56,
     "metadata": {},
     "output_type": "execute_result"
    }
   ],
   "source": [
    "history_dict = history.history\n",
    "history_dict.keys()"
   ]
  },
  {
   "cell_type": "code",
   "execution_count": 57,
   "metadata": {},
   "outputs": [
    {
     "data": {
      "image/png": "[encoded data removed]",
      "text/plain": [
       "<Figure size 432x288 with 1 Axes>"
      ]
     },
     "metadata": {
      "needs_background": "light"
     },
     "output_type": "display_data"
    }
   ],
   "source": [
    "import matplotlib.pyplot as plt\n",
    "\n",
    "history_dict = history.history\n",
    "loss_values = history_dict['loss']\n",
    "val_loss_values = history_dict['val_loss']\n",
    "acc_values = history_dict['accuracy']\n",
    "val_acc_values = history_dict['val_accuracy']\n",
    "epochs = range(1, len(history_dict['val_accuracy']) + 1)\n",
    "plt.plot(epochs, loss_values, 'b', label='Training loss')\n",
    "plt.plot(epochs, val_loss_values, 'g', label='Validation loss')\n",
    "\n",
    "plt.plot(epochs, acc_values, 'r', label='Training Accuracy')\n",
    "plt.plot(epochs, val_acc_values, 'y', label='Validation Accuracy')\n",
    "\n",
    "plt.title('Training and validation Accuracy and Loss')\n",
    "plt.xlabel('Epochs')\n",
    "plt.ylabel('Accuracy and Loss')\n",
    "plt.legend()\n",
    "plt.show()"
   ]
  },
  {
   "cell_type": "code",
   "execution_count": null,
   "metadata": {},
   "outputs": [],
   "source": []
  },
  {
   "cell_type": "code",
   "execution_count": null,
   "metadata": {},
   "outputs": [],
   "source": []
  }
 ],
 "metadata": {
  "kernelspec": {
   "display_name": "Python 3",
   "language": "python",
   "name": "python3"
  },
  "language_info": {
   "codemirror_mode": {
    "name": "ipython",
    "version": 3
   },
   "file_extension": ".py",
   "mimetype": "text/x-python",
   "name": "python",
   "nbconvert_exporter": "python",
   "pygments_lexer": "ipython3",
   "version": "3.7.5"
  }
 },
 "nbformat": 4,
 "nbformat_minor": 2
}
