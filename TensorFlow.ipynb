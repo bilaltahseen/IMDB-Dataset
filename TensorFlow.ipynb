{
 "cells": [
  {
   "cell_type": "code",
   "execution_count": null,
   "metadata": {},
   "outputs": [],
   "source": [
    "from keras.datasets import mnist\n",
    "from numpy import reshape\n",
    "(train_images,train_labels),(test_images,test_labels)=mnist.load_data()"
   ]
  },
  {
   "cell_type": "code",
   "execution_count": null,
   "metadata": {},
   "outputs": [],
   "source": [
    "from matplotlib.pyplot import imshow"
   ]
  },
  {
   "cell_type": "code",
   "execution_count": null,
   "metadata": {},
   "outputs": [],
   "source": [
    "train_labels[1]"
   ]
  },
  {
   "cell_type": "code",
   "execution_count": null,
   "metadata": {},
   "outputs": [],
   "source": [
    "imshow(train_images[0])"
   ]
  },
  {
   "cell_type": "code",
   "execution_count": null,
   "metadata": {},
   "outputs": [],
   "source": [
    "train_images.shape"
   ]
  },
  {
   "cell_type": "code",
   "execution_count": null,
   "metadata": {},
   "outputs": [],
   "source": [
    "train_labels"
   ]
  },
  {
   "cell_type": "code",
   "execution_count": null,
   "metadata": {},
   "outputs": [],
   "source": [
    "from keras import models\n",
    "from keras import layers"
   ]
  },
  {
   "cell_type": "markdown",
   "metadata": {},
   "source": [
    "# Softmax outputs the probablity of each target "
   ]
  },
  {
   "cell_type": "code",
   "execution_count": null,
   "metadata": {},
   "outputs": [],
   "source": [
    "network = models.Sequential()           #Dense hidden layers phali layer ka har neuron apni samnay wali kay har nerurons say connect hoga\n",
    "network.add(layers.Dense(512,activation='relu',input_shape=(28 * 28,)))#Edges pai wights generates hoty hain\n",
    "network.add(layers.Dense(10, activation='softmax')) #bias means phalay say koi value majud ho jis say output vary kary har node apna bias hota hai\n",
    "#activitaion function converts linear to non-linear"
   ]
  },
  {
   "cell_type": "code",
   "execution_count": null,
   "metadata": {},
   "outputs": [],
   "source": [
    "train_images = train_images.reshape((60000, 28 * 28))\n",
    "train_images = train_images.astype('float32') / 255\n",
    "test_images = test_images.reshape((10000, 28 * 28))\n",
    "test_images = test_images.astype('float32') / 255"
   ]
  },
  {
   "cell_type": "code",
   "execution_count": null,
   "metadata": {},
   "outputs": [],
   "source": [
    "from keras.utils import to_categorical\n",
    "train_labels = to_categorical(train_labels)\n",
    "test_labels = to_categorical(test_labels)"
   ]
  },
  {
   "cell_type": "code",
   "execution_count": null,
   "metadata": {},
   "outputs": [],
   "source": [
    "network = models.Sequential()\n",
    "network.add(layers.Dense(512, activation='relu', input_shape=(28 * 28,)))\n",
    "network.add(layers.Dense(10, activation='softmax'))"
   ]
  },
  {
   "cell_type": "code",
   "execution_count": null,
   "metadata": {},
   "outputs": [],
   "source": [
    "network.compile(optimizer='rmsprop',loss='categorical_crossentropy',metrics=['accuracy'])"
   ]
  },
  {
   "cell_type": "code",
   "execution_count": null,
   "metadata": {},
   "outputs": [],
   "source": [
    "network.fit(train_images, train_labels, epochs=5, batch_size=128)"
   ]
  },
  {
   "cell_type": "code",
   "execution_count": null,
   "metadata": {},
   "outputs": [],
   "source": [
    "test_loss, test_acc = network.evaluate(test_images, test_labels)"
   ]
  },
  {
   "cell_type": "code",
   "execution_count": null,
   "metadata": {},
   "outputs": [],
   "source": [
    "print(test_acc*100)\n",
    "print(test_loss*100)"
   ]
  },
  {
   "cell_type": "code",
   "execution_count": null,
   "metadata": {},
   "outputs": [],
   "source": [
    "train_images[0]"
   ]
  },
  {
   "cell_type": "code",
   "execution_count": null,
   "metadata": {},
   "outputs": [],
   "source": [
    "# Ordinal Data --> Number ki form mai can be sorted , \n",
    "# Nominal Data --> Non-Numeric Data , can't be sorted"
   ]
  },
  {
   "cell_type": "markdown",
   "metadata": {},
   "source": [
    "# Chapter 3 (3 new examples)"
   ]
  },
  {
   "cell_type": "raw",
   "metadata": {},
   "source": [
    " Classifying movie reviews as positive or negative (binary classification)\n",
    " Classifying news wires by topic (multiclass classification)\n",
    " Estimating the price of a house, given real-estate data (regression)"
   ]
  },
  {
   "cell_type": "code",
   "execution_count": 1,
   "metadata": {},
   "outputs": [],
   "source": [
    "#Objective Function->Loss should be minimized #Extremly Important for Objective Func\n",
    "#Best Practises hamay malum hota hai konsa loss funciton is for which type of problem"
   ]
  },
  {
   "cell_type": "code",
   "execution_count": 3,
   "metadata": {},
   "outputs": [],
   "source": [
    "from keras.datasets import imdb\n",
    "(train_data, train_labels), (test_data, test_labels) = imdb.load_data(num_words=10000)"
   ]
  },
  {
   "cell_type": "code",
   "execution_count": 4,
   "metadata": {},
   "outputs": [],
   "source": [
    "#During training the ANN will try to predict the data without seeing the label of the data,\n",
    "#Training can be 100% testing not,100% not reliable,\n",
    "#TemporalLeak Some part of data memorized.\n",
    "#Encoding --> Vectorization,"
   ]
  },
  {
   "cell_type": "code",
   "execution_count": 5,
   "metadata": {},
   "outputs": [
    {
     "data": {
      "text/plain": [
       "[1,\n",
       " 9995,\n",
       " 2,\n",
       " 7,\n",
       " 2208,\n",
       " 7335,\n",
       " 3135,\n",
       " 4173,\n",
       " 3783,\n",
       " 509,\n",
       " 1683,\n",
       " 4702,\n",
       " 2,\n",
       " 2,\n",
       " 6,\n",
       " 201,\n",
       " 7,\n",
       " 6415,\n",
       " 687,\n",
       " 2,\n",
       " 2,\n",
       " 7,\n",
       " 6387,\n",
       " 548,\n",
       " 139,\n",
       " 7583,\n",
       " 295,\n",
       " 34,\n",
       " 4485,\n",
       " 5302,\n",
       " 2,\n",
       " 2,\n",
       " 2,\n",
       " 7,\n",
       " 2,\n",
       " 2,\n",
       " 146,\n",
       " 24,\n",
       " 1017,\n",
       " 2282,\n",
       " 133,\n",
       " 21,\n",
       " 4,\n",
       " 1591,\n",
       " 3113,\n",
       " 786,\n",
       " 2,\n",
       " 16,\n",
       " 125,\n",
       " 4,\n",
       " 2,\n",
       " 9790,\n",
       " 2039,\n",
       " 137,\n",
       " 267,\n",
       " 2,\n",
       " 5,\n",
       " 2,\n",
       " 120,\n",
       " 2024,\n",
       " 980,\n",
       " 2,\n",
       " 1248,\n",
       " 5666,\n",
       " 727,\n",
       " 1405,\n",
       " 6879,\n",
       " 1060,\n",
       " 6442,\n",
       " 18,\n",
       " 2,\n",
       " 1461,\n",
       " 2,\n",
       " 1883,\n",
       " 445,\n",
       " 109,\n",
       " 5369,\n",
       " 3696,\n",
       " 33,\n",
       " 236,\n",
       " 786,\n",
       " 5580,\n",
       " 7994,\n",
       " 8,\n",
       " 2,\n",
       " 2,\n",
       " 103,\n",
       " 2,\n",
       " 98,\n",
       " 11,\n",
       " 2,\n",
       " 1461,\n",
       " 24,\n",
       " 66,\n",
       " 351,\n",
       " 1461,\n",
       " 165,\n",
       " 116,\n",
       " 17,\n",
       " 2545,\n",
       " 18,\n",
       " 6717,\n",
       " 8694,\n",
       " 5514,\n",
       " 980,\n",
       " 2545,\n",
       " 165,\n",
       " 734,\n",
       " 18,\n",
       " 2311,\n",
       " 52,\n",
       " 84,\n",
       " 157,\n",
       " 18,\n",
       " 7232,\n",
       " 11,\n",
       " 661,\n",
       " 8,\n",
       " 607,\n",
       " 3531,\n",
       " 223,\n",
       " 1066,\n",
       " 445,\n",
       " 9236,\n",
       " 996,\n",
       " 8,\n",
       " 2898,\n",
       " 4931,\n",
       " 8,\n",
       " 5526,\n",
       " 8316,\n",
       " 7880,\n",
       " 154,\n",
       " 378,\n",
       " 459,\n",
       " 18,\n",
       " 6942,\n",
       " 632,\n",
       " 5,\n",
       " 79,\n",
       " 2024,\n",
       " 18,\n",
       " 68,\n",
       " 4918,\n",
       " 813,\n",
       " 2456,\n",
       " 2,\n",
       " 17,\n",
       " 840,\n",
       " 4807,\n",
       " 3854,\n",
       " 23,\n",
       " 136,\n",
       " 159,\n",
       " 5770,\n",
       " 852,\n",
       " 1698,\n",
       " 632,\n",
       " 7708,\n",
       " 7993,\n",
       " 1003,\n",
       " 1372,\n",
       " 5747,\n",
       " 2,\n",
       " 7,\n",
       " 5840,\n",
       " 5408,\n",
       " 11,\n",
       " 7200,\n",
       " 120,\n",
       " 4682,\n",
       " 7,\n",
       " 2,\n",
       " 3368,\n",
       " 2103,\n",
       " 8,\n",
       " 1140,\n",
       " 2,\n",
       " 880,\n",
       " 1692,\n",
       " 7,\n",
       " 68,\n",
       " 205,\n",
       " 3565,\n",
       " 5903,\n",
       " 21,\n",
       " 3204,\n",
       " 1372,\n",
       " 2,\n",
       " 2,\n",
       " 1098,\n",
       " 125,\n",
       " 128,\n",
       " 2429,\n",
       " 21,\n",
       " 9000,\n",
       " 2,\n",
       " 632,\n",
       " 2,\n",
       " 245,\n",
       " 39,\n",
       " 3526,\n",
       " 5,\n",
       " 9386,\n",
       " 2690,\n",
       " 6,\n",
       " 4951,\n",
       " 7,\n",
       " 2,\n",
       " 496,\n",
       " 90,\n",
       " 103,\n",
       " 316,\n",
       " 47,\n",
       " 348,\n",
       " 56,\n",
       " 2,\n",
       " 483,\n",
       " 2,\n",
       " 2865,\n",
       " 56,\n",
       " 6,\n",
       " 9739,\n",
       " 445,\n",
       " 9236,\n",
       " 2568,\n",
       " 2464,\n",
       " 8,\n",
       " 632,\n",
       " 29,\n",
       " 57,\n",
       " 1207,\n",
       " 1085,\n",
       " 17,\n",
       " 6,\n",
       " 3842,\n",
       " 632,\n",
       " 3055,\n",
       " 8,\n",
       " 516,\n",
       " 5765,\n",
       " 2,\n",
       " 88,\n",
       " 240,\n",
       " 128,\n",
       " 74,\n",
       " 15,\n",
       " 7906,\n",
       " 700,\n",
       " 2143,\n",
       " 109,\n",
       " 166,\n",
       " 642,\n",
       " 2,\n",
       " 5,\n",
       " 6358,\n",
       " 795,\n",
       " 7771,\n",
       " 6474,\n",
       " 2,\n",
       " 11,\n",
       " 1526,\n",
       " 4041,\n",
       " 2,\n",
       " 2,\n",
       " 2,\n",
       " 2,\n",
       " 2,\n",
       " 31,\n",
       " 160,\n",
       " 143,\n",
       " 6,\n",
       " 201,\n",
       " 7,\n",
       " 3404,\n",
       " 5,\n",
       " 85,\n",
       " 1748,\n",
       " 2,\n",
       " 15,\n",
       " 62,\n",
       " 516,\n",
       " 6,\n",
       " 2691,\n",
       " 6945,\n",
       " 132,\n",
       " 2,\n",
       " 4193,\n",
       " 7,\n",
       " 1056,\n",
       " 6756,\n",
       " 4262,\n",
       " 19,\n",
       " 164,\n",
       " 21,\n",
       " 2,\n",
       " 2,\n",
       " 1141,\n",
       " 281,\n",
       " 5,\n",
       " 4,\n",
       " 4461,\n",
       " 7,\n",
       " 5681,\n",
       " 2,\n",
       " 5,\n",
       " 1175,\n",
       " 2,\n",
       " 2628,\n",
       " 7232,\n",
       " 772,\n",
       " 447,\n",
       " 2066,\n",
       " 588,\n",
       " 17,\n",
       " 8508,\n",
       " 18,\n",
       " 5580,\n",
       " 2,\n",
       " 10,\n",
       " 10,\n",
       " 13,\n",
       " 100,\n",
       " 140,\n",
       " 23,\n",
       " 21,\n",
       " 14,\n",
       " 9,\n",
       " 43,\n",
       " 2,\n",
       " 48,\n",
       " 335,\n",
       " 120,\n",
       " 4,\n",
       " 559,\n",
       " 7,\n",
       " 3917,\n",
       " 5,\n",
       " 24,\n",
       " 581,\n",
       " 11,\n",
       " 9484,\n",
       " 3231,\n",
       " 225,\n",
       " 242,\n",
       " 164,\n",
       " 133,\n",
       " 18,\n",
       " 25,\n",
       " 2,\n",
       " 195,\n",
       " 45,\n",
       " 24,\n",
       " 99,\n",
       " 230,\n",
       " 125,\n",
       " 7,\n",
       " 2291,\n",
       " 18,\n",
       " 3783,\n",
       " 102,\n",
       " 38,\n",
       " 2,\n",
       " 32,\n",
       " 207,\n",
       " 398,\n",
       " 48,\n",
       " 25,\n",
       " 191,\n",
       " 79,\n",
       " 195,\n",
       " 7,\n",
       " 4,\n",
       " 512]"
      ]
     },
     "execution_count": 5,
     "metadata": {},
     "output_type": "execute_result"
    }
   ],
   "source": [
    "max([max(sequence for sequence in train_data)])"
   ]
  },
  {
   "cell_type": "code",
   "execution_count": 6,
   "metadata": {},
   "outputs": [],
   "source": [
    "import numpy as np\n",
    "def vectorize_sequences(sequences, dimension=10000):\n",
    "    results = np.zeros((len(sequences), dimension))\n",
    "    for i,sequence in enumerate(sequences):\n",
    "        results[i, sequence] = 1\n",
    "    return results\n"
   ]
  },
  {
   "cell_type": "code",
   "execution_count": 7,
   "metadata": {},
   "outputs": [],
   "source": [
    "x_train = vectorize_sequences(train_data)\n",
    "x_test = vectorize_sequences(test_data)\n",
    "y_train = np.asarray(train_labels).astype('float32')\n",
    "y_test = np.asarray(test_labels).astype('float32')"
   ]
  },
  {
   "cell_type": "code",
   "execution_count": 12,
   "metadata": {},
   "outputs": [
    {
     "data": {
      "text/plain": [
       "array([0., 1., 1., ..., 0., 0., 0.])"
      ]
     },
     "execution_count": 12,
     "metadata": {},
     "output_type": "execute_result"
    }
   ],
   "source": [
    "x_train[1]"
   ]
  },
  {
   "cell_type": "code",
   "execution_count": 8,
   "metadata": {},
   "outputs": [],
   "source": [
    "from keras import models\n",
    "from keras import layers\n",
    "model = models.Sequential()\n",
    "model.add(layers.Dense(16, activation='relu', input_shape=(10000,)))\n",
    "model.add(layers.Dense(16, activation='relu'))\n",
    "model.add(layers.Dense(1, activation='sigmoid')) #Sigmoid convert data to probablity but on binaray classificiation"
   ]
  },
  {
   "cell_type": "code",
   "execution_count": 16,
   "metadata": {},
   "outputs": [],
   "source": [
    "#Validation Data_Validation Test during every testing epcohs validation accucracy and validation loss"
   ]
  },
  {
   "cell_type": "code",
   "execution_count": 11,
   "metadata": {},
   "outputs": [],
   "source": [
    "x_val = x_train[:10000]\n",
    "partial_x_train = x_train[10000:]\n",
    "y_val = y_train[:10000]\n",
    "partial_y_train=y_train[10000:]"
   ]
  },
  {
   "cell_type": "code",
   "execution_count": 12,
   "metadata": {},
   "outputs": [],
   "source": [
    "#Validation can be helpful for network quality"
   ]
  },
  {
   "cell_type": "code",
   "execution_count": 13,
   "metadata": {},
   "outputs": [
    {
     "name": "stdout",
     "output_type": "stream",
     "text": [
      "Train on 15000 samples, validate on 10000 samples\n",
      "Epoch 1/20\n",
      "15000/15000 [==============================] - 4s 249us/step - loss: 0.5106 - acc: 0.7927 - val_loss: 0.4100 - val_acc: 0.8384\n",
      "Epoch 2/20\n",
      "15000/15000 [==============================] - 3s 223us/step - loss: 0.3065 - acc: 0.9014 - val_loss: 0.3087 - val_acc: 0.8820\n",
      "Epoch 3/20\n",
      "15000/15000 [==============================] - 3s 215us/step - loss: 0.2238 - acc: 0.9281 - val_loss: 0.2947 - val_acc: 0.8805\n",
      "Epoch 4/20\n",
      "15000/15000 [==============================] - 3s 208us/step - loss: 0.1773 - acc: 0.9424 - val_loss: 0.2728 - val_acc: 0.8887\n",
      "Epoch 5/20\n",
      "15000/15000 [==============================] - 3s 204us/step - loss: 0.1457 - acc: 0.9537 - val_loss: 0.2886 - val_acc: 0.8833\n",
      "Epoch 6/20\n",
      "15000/15000 [==============================] - 3s 210us/step - loss: 0.1205 - acc: 0.9624 - val_loss: 0.3020 - val_acc: 0.8867\n",
      "Epoch 7/20\n",
      "15000/15000 [==============================] - 3s 207us/step - loss: 0.0988 - acc: 0.9709 - val_loss: 0.3169 - val_acc: 0.8803\n",
      "Epoch 8/20\n",
      "15000/15000 [==============================] - 3s 211us/step - loss: 0.0850 - acc: 0.9759 - val_loss: 0.3557 - val_acc: 0.8714\n",
      "Epoch 9/20\n",
      "15000/15000 [==============================] - 3s 207us/step - loss: 0.0704 - acc: 0.9811 - val_loss: 0.3449 - val_acc: 0.8799\n",
      "Epoch 10/20\n",
      "15000/15000 [==============================] - 3s 206us/step - loss: 0.0565 - acc: 0.9857 - val_loss: 0.3779 - val_acc: 0.8741\n",
      "Epoch 11/20\n",
      "15000/15000 [==============================] - 3s 208us/step - loss: 0.0462 - acc: 0.9889 - val_loss: 0.3989 - val_acc: 0.8750\n",
      "Epoch 12/20\n",
      "15000/15000 [==============================] - 3s 216us/step - loss: 0.0381 - acc: 0.9909 - val_loss: 0.4269 - val_acc: 0.8746\n",
      "Epoch 13/20\n",
      "15000/15000 [==============================] - 3s 217us/step - loss: 0.0271 - acc: 0.9951 - val_loss: 0.4567 - val_acc: 0.8731\n",
      "Epoch 14/20\n",
      "15000/15000 [==============================] - 3s 207us/step - loss: 0.0258 - acc: 0.9950 - val_loss: 0.4892 - val_acc: 0.8719\n",
      "Epoch 15/20\n",
      "15000/15000 [==============================] - 3s 207us/step - loss: 0.0160 - acc: 0.9981 - val_loss: 0.5685 - val_acc: 0.8634\n",
      "Epoch 16/20\n",
      "15000/15000 [==============================] - 3s 209us/step - loss: 0.0143 - acc: 0.9985 - val_loss: 0.5538 - val_acc: 0.8705\n",
      "Epoch 17/20\n",
      "15000/15000 [==============================] - 3s 206us/step - loss: 0.0102 - acc: 0.9994 - val_loss: 0.5896 - val_acc: 0.8677\n",
      "Epoch 18/20\n",
      "15000/15000 [==============================] - 3s 204us/step - loss: 0.0089 - acc: 0.9988 - val_loss: 0.6272 - val_acc: 0.8671\n",
      "Epoch 19/20\n",
      "15000/15000 [==============================] - 3s 210us/step - loss: 0.0072 - acc: 0.9991 - val_loss: 0.6625 - val_acc: 0.8653\n",
      "Epoch 20/20\n",
      "15000/15000 [==============================] - 3s 211us/step - loss: 0.0038 - acc: 0.9999 - val_loss: 0.7463 - val_acc: 0.8561\n"
     ]
    }
   ],
   "source": [
    "model.compile(optimizer='rmsprop',\n",
    "loss='binary_crossentropy',\n",
    "metrics=['acc'])\n",
    "history = model.fit(partial_x_train,\n",
    "partial_y_train,\n",
    "epochs=20,\n",
    "batch_size=512,\n",
    "validation_data=(x_val, y_val))"
   ]
  },
  {
   "cell_type": "code",
   "execution_count": 36,
   "metadata": {},
   "outputs": [
    {
     "data": {
      "text/plain": [
       "dict_keys(['val_loss', 'val_acc', 'loss', 'acc'])"
      ]
     },
     "execution_count": 36,
     "metadata": {},
     "output_type": "execute_result"
    }
   ],
   "source": [
    "history_dict = history.history\n",
    "history_dict.keys()"
   ]
  },
  {
   "cell_type": "code",
   "execution_count": 40,
   "metadata": {},
   "outputs": [
    {
     "data": {
      "image/png": "[encoded data removed]",
      "text/plain": [
       "<Figure size 432x288 with 1 Axes>"
      ]
     },
     "metadata": {
      "needs_background": "light"
     },
     "output_type": "display_data"
    }
   ],
   "source": [
    "import matplotlib.pyplot as plt\n",
    "history_dict = history.history\n",
    "loss_values = history_dict['loss']\n",
    "val_loss_values = history_dict['val_loss']\n",
    "epochs = range(1, len(history_dict['val_acc']) + 1)\n",
    "plt.plot(epochs, loss_values, 'bo', label='Training loss')\n",
    "plt.plot(epochs, val_loss_values, 'b', label='Validation loss')\n",
    "plt.title('Training and validation loss')\n",
    "plt.xlabel('Epochs')\n",
    "plt.ylabel('Loss')\n",
    "plt.legend()\n",
    "plt.show()"
   ]
  },
  {
   "cell_type": "code",
   "execution_count": 46,
   "metadata": {},
   "outputs": [
    {
     "data": {
      "text/plain": [
       "'048D'"
      ]
     },
     "execution_count": 46,
     "metadata": {},
     "output_type": "execute_result"
    }
   ],
   "source": [
    "bstr = '0000 0100 1000 1101'.replace(' ', '')\n",
    "hstr = '%0*X' % ((len(bstr) + 3) // 4, int(bstr, 2))\n",
    "hstr"
   ]
  }
 ],
 "metadata": {
  "kernelspec": {
   "display_name": "Python 3",
   "language": "python",
   "name": "python3"
  },
  "language_info": {
   "codemirror_mode": {
    "name": "ipython",
    "version": 3
   },
   "file_extension": ".py",
   "mimetype": "text/x-python",
   "name": "python",
   "nbconvert_exporter": "python",
   "pygments_lexer": "ipython3",
   "version": "3.7.5"
  }
 },
 "nbformat": 4,
 "nbformat_minor": 2
}
