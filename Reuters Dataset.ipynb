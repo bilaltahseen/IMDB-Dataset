{
 "cells": [
  {
   "cell_type": "markdown",
   "metadata": {},
   "source": [
    "# MultiClass Classification"
   ]
  },
  {
   "cell_type": "code",
   "execution_count": 2,
   "metadata": {},
   "outputs": [],
   "source": [
    "#Last layer main woh activiation lagain jay jis tarhn ka output chaiya ho"
   ]
  },
  {
   "cell_type": "raw",
   "metadata": {},
   "source": [
    "Multi label, means more the one label of same dataset Metrics, "
   ]
  },
  {
   "cell_type": "markdown",
   "metadata": {},
   "source": [
    "# Metrices (Confusion Matrix)"
   ]
  },
  {
   "cell_type": "raw",
   "metadata": {},
   "source": [
    "Used to measure the performace of your model. \n",
    "Accuracy = Correct / Total \n",
    "\n",
    "This formula gives a crude summary of the performance, overall correctness of the algorithm, accuracy does not provides you the breakdown. Confusion matrix is more detailed report, useful way to to descrive how well a classifier performace is by inspecting the it performs on teacher of the classes\n",
    "consider the binary classifier with positive and negative labels,\n",
    "Confusion matrix compares how the predicted response are comapre with actual\n",
    "\n",
    "Prescision = Tp/Tp+Fp\n",
    "Recal = Tp/Tp + Fn\n",
    "\n",
    "Information bottel neck,starting long layer in between small layers then large layers"
   ]
  },
  {
   "cell_type": "code",
   "execution_count": null,
   "metadata": {},
   "outputs": [],
   "source": []
  },
  {
   "cell_type": "code",
   "execution_count": 5,
   "metadata": {},
   "outputs": [],
   "source": [
    "from tensorflow.keras.datasets import reuters #Load Dataset"
   ]
  },
  {
   "cell_type": "code",
   "execution_count": 6,
   "metadata": {},
   "outputs": [],
   "source": [
    "(train_data, train_labels), (test_data, test_labels) = reuters.load_data(\n",
    "num_words=10000) #training and testing data"
   ]
  },
  {
   "cell_type": "code",
   "execution_count": 7,
   "metadata": {},
   "outputs": [],
   "source": [
    "import numpy as np\n",
    "def vectorize_sequences(sequences, dimension=10000):\n",
    "    results = np.zeros((len(sequences), dimension))\n",
    "    for i, sequence in enumerate(sequences):\n",
    "        results[i, sequence] = 1.\n",
    "    return results\n",
    "x_train = vectorize_sequences(train_data)\n",
    "x_test = vectorize_sequences(test_data)\n",
    "\n",
    "#Vectoriztion the data to feed into Classifier,"
   ]
  },
  {
   "cell_type": "code",
   "execution_count": 8,
   "metadata": {},
   "outputs": [
    {
     "name": "stderr",
     "output_type": "stream",
     "text": [
      "Using TensorFlow backend.\n"
     ]
    }
   ],
   "source": [
    "from keras.utils.np_utils import to_categorical\n",
    "one_hot_train_labels = to_categorical(train_labels)\n",
    "one_hot_test_labels = to_categorical(test_labels)\n",
    "#Labels Encoding"
   ]
  },
  {
   "cell_type": "code",
   "execution_count": 11,
   "metadata": {},
   "outputs": [],
   "source": [
    "from keras import models\n",
    "from keras import layers\n",
    "model = models.Sequential()\n",
    "model.add(layers.Dense(64, activation='relu', input_shape=(10000,)))\n",
    "model.add(layers.Dense(64, activation='relu'))\n",
    "model.add(layers.Dense(46, activation='softmax'))\n",
    "\n",
    "#Modeling the calssifier(ANN)"
   ]
  },
  {
   "cell_type": "code",
   "execution_count": 12,
   "metadata": {},
   "outputs": [],
   "source": [
    "model.compile(optimizer='rmsprop',\n",
    "loss='categorical_crossentropy',\n",
    "metrics=['accuracy'])\n",
    "#Model Compiling"
   ]
  },
  {
   "cell_type": "code",
   "execution_count": 13,
   "metadata": {},
   "outputs": [],
   "source": [
    "x_val = x_train[:1000]\n",
    "partial_x_train = x_train[1000:]\n",
    "y_val = one_hot_train_labels[:1000]\n",
    "partial_y_train = one_hot_train_labels[1000:]\n",
    "\n",
    "#Validation DataSet"
   ]
  },
  {
   "cell_type": "code",
   "execution_count": 14,
   "metadata": {},
   "outputs": [
    {
     "name": "stdout",
     "output_type": "stream",
     "text": [
      "Train on 7982 samples, validate on 1000 samples\n",
      "Epoch 1/20\n",
      "7982/7982 [==============================] - 3s 316us/step - loss: 2.4997 - accuracy: 0.4899 - val_loss: 1.6813 - val_accuracy: 0.6480\n",
      "Epoch 2/20\n",
      "7982/7982 [==============================] - 2s 257us/step - loss: 1.3915 - accuracy: 0.7038 - val_loss: 1.2790 - val_accuracy: 0.7190\n",
      "Epoch 3/20\n",
      "7982/7982 [==============================] - 2s 254us/step - loss: 1.0487 - accuracy: 0.7699 - val_loss: 1.1181 - val_accuracy: 0.7610\n",
      "Epoch 4/20\n",
      "7982/7982 [==============================] - 2s 252us/step - loss: 0.8246 - accuracy: 0.8282 - val_loss: 1.0217 - val_accuracy: 0.7760\n",
      "Epoch 5/20\n",
      "7982/7982 [==============================] - 2s 252us/step - loss: 0.6599 - accuracy: 0.8637 - val_loss: 0.9688 - val_accuracy: 0.7970\n",
      "Epoch 6/20\n",
      "7982/7982 [==============================] - 2s 255us/step - loss: 0.5254 - accuracy: 0.8931 - val_loss: 0.9200 - val_accuracy: 0.8090\n",
      "Epoch 7/20\n",
      "7982/7982 [==============================] - 2s 253us/step - loss: 0.4291 - accuracy: 0.9118 - val_loss: 0.9108 - val_accuracy: 0.8030\n",
      "Epoch 8/20\n",
      "7982/7982 [==============================] - 2s 252us/step - loss: 0.3497 - accuracy: 0.9277 - val_loss: 0.8937 - val_accuracy: 0.8150\n",
      "Epoch 9/20\n",
      "7982/7982 [==============================] - 2s 250us/step - loss: 0.2893 - accuracy: 0.9386 - val_loss: 0.9131 - val_accuracy: 0.8090\n",
      "Epoch 10/20\n",
      "7982/7982 [==============================] - 2s 250us/step - loss: 0.2450 - accuracy: 0.9453 - val_loss: 0.9121 - val_accuracy: 0.8100\n",
      "Epoch 11/20\n",
      "7982/7982 [==============================] - 2s 261us/step - loss: 0.2102 - accuracy: 0.9481 - val_loss: 0.9540 - val_accuracy: 0.8130\n",
      "Epoch 12/20\n",
      "7982/7982 [==============================] - 2s 251us/step - loss: 0.1878 - accuracy: 0.9528 - val_loss: 0.9632 - val_accuracy: 0.8040\n",
      "Epoch 13/20\n",
      "7982/7982 [==============================] - 2s 253us/step - loss: 0.1658 - accuracy: 0.9529 - val_loss: 0.9989 - val_accuracy: 0.8010\n",
      "Epoch 14/20\n",
      "7982/7982 [==============================] - 2s 253us/step - loss: 0.1532 - accuracy: 0.9550 - val_loss: 0.9861 - val_accuracy: 0.8050\n",
      "Epoch 15/20\n",
      "7982/7982 [==============================] - 2s 259us/step - loss: 0.1456 - accuracy: 0.9550 - val_loss: 1.0385 - val_accuracy: 0.7990\n",
      "Epoch 16/20\n",
      "7982/7982 [==============================] - 2s 262us/step - loss: 0.1326 - accuracy: 0.9554 - val_loss: 1.0580 - val_accuracy: 0.8000\n",
      "Epoch 17/20\n",
      "7982/7982 [==============================] - 2s 251us/step - loss: 0.1255 - accuracy: 0.9554 - val_loss: 1.0561 - val_accuracy: 0.7970\n",
      "Epoch 18/20\n",
      "7982/7982 [==============================] - 2s 251us/step - loss: 0.1170 - accuracy: 0.9560 - val_loss: 1.0485 - val_accuracy: 0.8150\n",
      "Epoch 19/20\n",
      "7982/7982 [==============================] - 2s 267us/step - loss: 0.1157 - accuracy: 0.9573 - val_loss: 1.0532 - val_accuracy: 0.8080\n",
      "Epoch 20/20\n",
      "7982/7982 [==============================] - 2s 254us/step - loss: 0.1136 - accuracy: 0.9582 - val_loss: 1.0729 - val_accuracy: 0.8030\n"
     ]
    }
   ],
   "source": [
    "history = model.fit(partial_x_train,\n",
    "partial_y_train,\n",
    "epochs=20,\n",
    "batch_size=512,\n",
    "validation_data=(x_val, y_val))\n",
    "#Validation Modeling"
   ]
  },
  {
   "cell_type": "code",
   "execution_count": 22,
   "metadata": {},
   "outputs": [
    {
     "data": {
      "image/png": "[encoded data removed]",
      "text/plain": [
       "<Figure size 432x288 with 1 Axes>"
      ]
     },
     "metadata": {
      "needs_background": "light"
     },
     "output_type": "display_data"
    }
   ],
   "source": [
    "import matplotlib.pyplot as plt\n",
    "loss = history.history['loss']\n",
    "val_loss = history.history['val_loss']\n",
    "epochs = range(1, len(loss) + 1)\n",
    "plt.plot(epochs, loss, 'bo', label='Training loss')\n",
    "plt.plot(epochs, val_loss, 'b', label='Validation loss')\n",
    "plt.title('Training and validation loss')\n",
    "plt.xlabel('Epochs')\n",
    "plt.ylabel('Loss')\n",
    "plt.legend()\n",
    "plt.show()\n",
    "\n",
    "#Plot Loss Vs Epochs Curve"
   ]
  },
  {
   "cell_type": "code",
   "execution_count": 26,
   "metadata": {},
   "outputs": [
    {
     "data": {
      "image/png": "[encoded data removed]",
      "text/plain": [
       "<Figure size 432x288 with 1 Axes>"
      ]
     },
     "metadata": {
      "needs_background": "light"
     },
     "output_type": "display_data"
    }
   ],
   "source": [
    "plt.clf()\n",
    "acc = history.history['accuracy']\n",
    "val_acc = history.history['val_accuracy']\n",
    "plt.plot(epochs, acc, 'bo', label='Training acc')\n",
    "plt.plot(epochs, val_acc, 'b', label='Validation acc')\n",
    "plt.title('Training and validation accuracy')\n",
    "plt.xlabel('Epochs')\n",
    "plt.ylabel('Loss')\n",
    "plt.legend()\n",
    "plt.show()\n",
    "\n",
    "#Plot Accuracy Vs Epochs Curve"
   ]
  },
  {
   "cell_type": "code",
   "execution_count": 27,
   "metadata": {},
   "outputs": [
    {
     "name": "stdout",
     "output_type": "stream",
     "text": [
      "Train on 7982 samples, validate on 1000 samples\n",
      "Epoch 1/9\n",
      "7982/7982 [==============================] - 2s 244us/step - loss: 2.8535 - accuracy: 0.4022 - val_loss: 1.9506 - val_accuracy: 0.6340\n",
      "Epoch 2/9\n",
      "7982/7982 [==============================] - 2s 222us/step - loss: 1.5744 - accuracy: 0.6898 - val_loss: 1.3817 - val_accuracy: 0.7110\n",
      "Epoch 3/9\n",
      "7982/7982 [==============================] - 2s 227us/step - loss: 1.1286 - accuracy: 0.7676 - val_loss: 1.1845 - val_accuracy: 0.7390\n",
      "Epoch 4/9\n",
      "7982/7982 [==============================] - 2s 220us/step - loss: 0.8774 - accuracy: 0.8226 - val_loss: 1.0474 - val_accuracy: 0.7810\n",
      "Epoch 5/9\n",
      "7982/7982 [==============================] - 2s 220us/step - loss: 0.6982 - accuracy: 0.8559 - val_loss: 0.9800 - val_accuracy: 0.8030\n",
      "Epoch 6/9\n",
      "7982/7982 [==============================] - 2s 223us/step - loss: 0.5531 - accuracy: 0.8899 - val_loss: 0.9446 - val_accuracy: 0.7990\n",
      "Epoch 7/9\n",
      "7982/7982 [==============================] - 2s 224us/step - loss: 0.4479 - accuracy: 0.9100 - val_loss: 0.9432 - val_accuracy: 0.8090\n",
      "Epoch 8/9\n",
      "7982/7982 [==============================] - 2s 219us/step - loss: 0.3678 - accuracy: 0.9256 - val_loss: 0.9017 - val_accuracy: 0.8080\n",
      "Epoch 9/9\n",
      "7982/7982 [==============================] - 2s 225us/step - loss: 0.3041 - accuracy: 0.9356 - val_loss: 0.9124 - val_accuracy: 0.8160\n"
     ]
    },
    {
     "data": {
      "text/plain": [
       "<keras.callbacks.callbacks.History at 0x2afe963ec8>"
      ]
     },
     "execution_count": 27,
     "metadata": {},
     "output_type": "execute_result"
    }
   ],
   "source": [
    "model = models.Sequential()\n",
    "model.add(layers.Dense(64, activation='relu', input_shape=(10000,)))\n",
    "model.add(layers.Dense(64, activation='relu'))\n",
    "model.add(layers.Dense(46, activation='softmax'))\n",
    "model.compile(optimizer='rmsprop',\n",
    "loss='categorical_crossentropy',\n",
    "metrics=['accuracy'])\n",
    "model.fit(partial_x_train,\n",
    "partial_y_train,\n",
    "epochs=9,\n",
    "batch_size=512,\n",
    "validation_data=(x_val, y_val))\n",
    "#Retain model from stratch"
   ]
  },
  {
   "cell_type": "code",
   "execution_count": 29,
   "metadata": {},
   "outputs": [
    {
     "name": "stdout",
     "output_type": "stream",
     "text": [
      "2246/2246 [==============================] - 0s 189us/step\n"
     ]
    },
    {
     "data": {
      "text/plain": [
       "[0.976967199084383, 0.7920747995376587]"
      ]
     },
     "execution_count": 29,
     "metadata": {},
     "output_type": "execute_result"
    }
   ],
   "source": [
    "results = model.evaluate(x_test, one_hot_test_labels)\n",
    "results\n",
    "#Evaluation"
   ]
  },
  {
   "cell_type": "code",
   "execution_count": 30,
   "metadata": {},
   "outputs": [],
   "source": [
    "predictions = model.predict(x_test)"
   ]
  },
  {
   "cell_type": "code",
   "execution_count": null,
   "metadata": {},
   "outputs": [],
   "source": []
  }
 ],
 "metadata": {
  "kernelspec": {
   "display_name": "Python 3",
   "language": "python",
   "name": "python3"
  },
  "language_info": {
   "codemirror_mode": {
    "name": "ipython",
    "version": 3
   },
   "file_extension": ".py",
   "mimetype": "text/x-python",
   "name": "python",
   "nbconvert_exporter": "python",
   "pygments_lexer": "ipython3",
   "version": "3.7.5"
  }
 },
 "nbformat": 4,
 "nbformat_minor": 2
}
